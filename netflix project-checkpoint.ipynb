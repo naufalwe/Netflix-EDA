{
 "cells": [
  {
   "cell_type": "markdown",
   "id": "3a75dfb0",
   "metadata": {},
   "source": [
    "# Netflix TV Shows and Movies\n",
    "Who does not know Netflix? Netflix is an online streaming service that provides various TV shows, movies, documentaries, and even anime worldwide. In this project, we will analyze and compare TV shows and movies on Netflix in different categories.</p>\n",
    "\n",
    "First, let's preview the following Netflix dataset:"
   ]
  },
  {
   "cell_type": "code",
   "execution_count": 57,
   "id": "b7647acc",
   "metadata": {},
   "outputs": [],
   "source": [
    "import pandas as pd\n",
    "import matplotlib.pyplot as plt\n",
    "import seaborn as sns"
   ]
  },
  {
   "cell_type": "code",
   "execution_count": 58,
   "id": "8c5c4484",
   "metadata": {
    "scrolled": true
   },
   "outputs": [
    {
     "data": {
      "text/html": [
       "<div>\n",
       "<style scoped>\n",
       "    .dataframe tbody tr th:only-of-type {\n",
       "        vertical-align: middle;\n",
       "    }\n",
       "\n",
       "    .dataframe tbody tr th {\n",
       "        vertical-align: top;\n",
       "    }\n",
       "\n",
       "    .dataframe thead th {\n",
       "        text-align: right;\n",
       "    }\n",
       "</style>\n",
       "<table border=\"1\" class=\"dataframe\">\n",
       "  <thead>\n",
       "    <tr style=\"text-align: right;\">\n",
       "      <th></th>\n",
       "      <th>title</th>\n",
       "      <th>type</th>\n",
       "      <th>description</th>\n",
       "      <th>release_year</th>\n",
       "      <th>age_certification</th>\n",
       "      <th>runtime</th>\n",
       "      <th>genres</th>\n",
       "      <th>production_countries</th>\n",
       "      <th>seasons</th>\n",
       "      <th>imdb_id</th>\n",
       "      <th>imdb_score</th>\n",
       "      <th>imdb_votes</th>\n",
       "      <th>tmdb_popularity</th>\n",
       "      <th>tmdb_score</th>\n",
       "    </tr>\n",
       "    <tr>\n",
       "      <th>id</th>\n",
       "      <th></th>\n",
       "      <th></th>\n",
       "      <th></th>\n",
       "      <th></th>\n",
       "      <th></th>\n",
       "      <th></th>\n",
       "      <th></th>\n",
       "      <th></th>\n",
       "      <th></th>\n",
       "      <th></th>\n",
       "      <th></th>\n",
       "      <th></th>\n",
       "      <th></th>\n",
       "      <th></th>\n",
       "    </tr>\n",
       "  </thead>\n",
       "  <tbody>\n",
       "    <tr>\n",
       "      <th>ts300399</th>\n",
       "      <td>Five Came Back: The Reference Films</td>\n",
       "      <td>SHOW</td>\n",
       "      <td>This collection includes 12 World War II-era p...</td>\n",
       "      <td>1945</td>\n",
       "      <td>TV-MA</td>\n",
       "      <td>51</td>\n",
       "      <td>['documentation']</td>\n",
       "      <td>['US']</td>\n",
       "      <td>1.0</td>\n",
       "      <td>NaN</td>\n",
       "      <td>NaN</td>\n",
       "      <td>NaN</td>\n",
       "      <td>0.600</td>\n",
       "      <td>NaN</td>\n",
       "    </tr>\n",
       "    <tr>\n",
       "      <th>tm84618</th>\n",
       "      <td>Taxi Driver</td>\n",
       "      <td>MOVIE</td>\n",
       "      <td>A mentally unstable Vietnam War veteran works ...</td>\n",
       "      <td>1976</td>\n",
       "      <td>R</td>\n",
       "      <td>114</td>\n",
       "      <td>['drama', 'crime']</td>\n",
       "      <td>['US']</td>\n",
       "      <td>NaN</td>\n",
       "      <td>tt0075314</td>\n",
       "      <td>8.2</td>\n",
       "      <td>808582.0</td>\n",
       "      <td>40.965</td>\n",
       "      <td>8.179</td>\n",
       "    </tr>\n",
       "    <tr>\n",
       "      <th>tm154986</th>\n",
       "      <td>Deliverance</td>\n",
       "      <td>MOVIE</td>\n",
       "      <td>Intent on seeing the Cahulawassee River before...</td>\n",
       "      <td>1972</td>\n",
       "      <td>R</td>\n",
       "      <td>109</td>\n",
       "      <td>['drama', 'action', 'thriller', 'european']</td>\n",
       "      <td>['US']</td>\n",
       "      <td>NaN</td>\n",
       "      <td>tt0068473</td>\n",
       "      <td>7.7</td>\n",
       "      <td>107673.0</td>\n",
       "      <td>10.010</td>\n",
       "      <td>7.300</td>\n",
       "    </tr>\n",
       "    <tr>\n",
       "      <th>tm127384</th>\n",
       "      <td>Monty Python and the Holy Grail</td>\n",
       "      <td>MOVIE</td>\n",
       "      <td>King Arthur, accompanied by his squire, recrui...</td>\n",
       "      <td>1975</td>\n",
       "      <td>PG</td>\n",
       "      <td>91</td>\n",
       "      <td>['fantasy', 'action', 'comedy']</td>\n",
       "      <td>['GB']</td>\n",
       "      <td>NaN</td>\n",
       "      <td>tt0071853</td>\n",
       "      <td>8.2</td>\n",
       "      <td>534486.0</td>\n",
       "      <td>15.461</td>\n",
       "      <td>7.811</td>\n",
       "    </tr>\n",
       "    <tr>\n",
       "      <th>tm120801</th>\n",
       "      <td>The Dirty Dozen</td>\n",
       "      <td>MOVIE</td>\n",
       "      <td>12 American military prisoners in World War II...</td>\n",
       "      <td>1967</td>\n",
       "      <td>NaN</td>\n",
       "      <td>150</td>\n",
       "      <td>['war', 'action']</td>\n",
       "      <td>['GB', 'US']</td>\n",
       "      <td>NaN</td>\n",
       "      <td>tt0061578</td>\n",
       "      <td>7.7</td>\n",
       "      <td>72662.0</td>\n",
       "      <td>20.398</td>\n",
       "      <td>7.600</td>\n",
       "    </tr>\n",
       "  </tbody>\n",
       "</table>\n",
       "</div>"
      ],
      "text/plain": [
       "                                        title   type  \\\n",
       "id                                                     \n",
       "ts300399  Five Came Back: The Reference Films   SHOW   \n",
       "tm84618                           Taxi Driver  MOVIE   \n",
       "tm154986                          Deliverance  MOVIE   \n",
       "tm127384      Monty Python and the Holy Grail  MOVIE   \n",
       "tm120801                      The Dirty Dozen  MOVIE   \n",
       "\n",
       "                                                description  release_year  \\\n",
       "id                                                                          \n",
       "ts300399  This collection includes 12 World War II-era p...          1945   \n",
       "tm84618   A mentally unstable Vietnam War veteran works ...          1976   \n",
       "tm154986  Intent on seeing the Cahulawassee River before...          1972   \n",
       "tm127384  King Arthur, accompanied by his squire, recrui...          1975   \n",
       "tm120801  12 American military prisoners in World War II...          1967   \n",
       "\n",
       "         age_certification  runtime  \\\n",
       "id                                    \n",
       "ts300399             TV-MA       51   \n",
       "tm84618                  R      114   \n",
       "tm154986                 R      109   \n",
       "tm127384                PG       91   \n",
       "tm120801               NaN      150   \n",
       "\n",
       "                                               genres production_countries  \\\n",
       "id                                                                           \n",
       "ts300399                            ['documentation']               ['US']   \n",
       "tm84618                            ['drama', 'crime']               ['US']   \n",
       "tm154986  ['drama', 'action', 'thriller', 'european']               ['US']   \n",
       "tm127384              ['fantasy', 'action', 'comedy']               ['GB']   \n",
       "tm120801                            ['war', 'action']         ['GB', 'US']   \n",
       "\n",
       "          seasons    imdb_id  imdb_score  imdb_votes  tmdb_popularity  \\\n",
       "id                                                                      \n",
       "ts300399      1.0        NaN         NaN         NaN            0.600   \n",
       "tm84618       NaN  tt0075314         8.2    808582.0           40.965   \n",
       "tm154986      NaN  tt0068473         7.7    107673.0           10.010   \n",
       "tm127384      NaN  tt0071853         8.2    534486.0           15.461   \n",
       "tm120801      NaN  tt0061578         7.7     72662.0           20.398   \n",
       "\n",
       "          tmdb_score  \n",
       "id                    \n",
       "ts300399         NaN  \n",
       "tm84618        8.179  \n",
       "tm154986       7.300  \n",
       "tm127384       7.811  \n",
       "tm120801       7.600  "
      ]
     },
     "execution_count": 58,
     "metadata": {},
     "output_type": "execute_result"
    }
   ],
   "source": [
    "netflix_data = pd.read_csv('titles.csv', index_col = 'id')\n",
    "netflix_data.head()"
   ]
  },
  {
   "cell_type": "markdown",
   "id": "971d1d21",
   "metadata": {},
   "source": [
    "## 1. Data Preprocessing\n",
    "Since we want to compare TV shows and movies on Netflix, we don't need some columns like description, seasons, imdb_id, production_countries, imdb_votes, and tmdb_popularity. Thus, we will delete them."
   ]
  },
  {
   "cell_type": "code",
   "execution_count": 59,
   "id": "46e67bc1",
   "metadata": {},
   "outputs": [
    {
     "data": {
      "text/html": [
       "<div>\n",
       "<style scoped>\n",
       "    .dataframe tbody tr th:only-of-type {\n",
       "        vertical-align: middle;\n",
       "    }\n",
       "\n",
       "    .dataframe tbody tr th {\n",
       "        vertical-align: top;\n",
       "    }\n",
       "\n",
       "    .dataframe thead th {\n",
       "        text-align: right;\n",
       "    }\n",
       "</style>\n",
       "<table border=\"1\" class=\"dataframe\">\n",
       "  <thead>\n",
       "    <tr style=\"text-align: right;\">\n",
       "      <th></th>\n",
       "      <th>title</th>\n",
       "      <th>type</th>\n",
       "      <th>release_year</th>\n",
       "      <th>age_certification</th>\n",
       "      <th>runtime</th>\n",
       "      <th>genres</th>\n",
       "      <th>imdb_score</th>\n",
       "      <th>tmdb_score</th>\n",
       "    </tr>\n",
       "    <tr>\n",
       "      <th>id</th>\n",
       "      <th></th>\n",
       "      <th></th>\n",
       "      <th></th>\n",
       "      <th></th>\n",
       "      <th></th>\n",
       "      <th></th>\n",
       "      <th></th>\n",
       "      <th></th>\n",
       "    </tr>\n",
       "  </thead>\n",
       "  <tbody>\n",
       "    <tr>\n",
       "      <th>ts300399</th>\n",
       "      <td>Five Came Back: The Reference Films</td>\n",
       "      <td>SHOW</td>\n",
       "      <td>1945</td>\n",
       "      <td>TV-MA</td>\n",
       "      <td>51</td>\n",
       "      <td>['documentation']</td>\n",
       "      <td>NaN</td>\n",
       "      <td>NaN</td>\n",
       "    </tr>\n",
       "    <tr>\n",
       "      <th>tm84618</th>\n",
       "      <td>Taxi Driver</td>\n",
       "      <td>MOVIE</td>\n",
       "      <td>1976</td>\n",
       "      <td>R</td>\n",
       "      <td>114</td>\n",
       "      <td>['drama', 'crime']</td>\n",
       "      <td>8.2</td>\n",
       "      <td>8.179</td>\n",
       "    </tr>\n",
       "    <tr>\n",
       "      <th>tm154986</th>\n",
       "      <td>Deliverance</td>\n",
       "      <td>MOVIE</td>\n",
       "      <td>1972</td>\n",
       "      <td>R</td>\n",
       "      <td>109</td>\n",
       "      <td>['drama', 'action', 'thriller', 'european']</td>\n",
       "      <td>7.7</td>\n",
       "      <td>7.300</td>\n",
       "    </tr>\n",
       "    <tr>\n",
       "      <th>tm127384</th>\n",
       "      <td>Monty Python and the Holy Grail</td>\n",
       "      <td>MOVIE</td>\n",
       "      <td>1975</td>\n",
       "      <td>PG</td>\n",
       "      <td>91</td>\n",
       "      <td>['fantasy', 'action', 'comedy']</td>\n",
       "      <td>8.2</td>\n",
       "      <td>7.811</td>\n",
       "    </tr>\n",
       "    <tr>\n",
       "      <th>tm120801</th>\n",
       "      <td>The Dirty Dozen</td>\n",
       "      <td>MOVIE</td>\n",
       "      <td>1967</td>\n",
       "      <td>NaN</td>\n",
       "      <td>150</td>\n",
       "      <td>['war', 'action']</td>\n",
       "      <td>7.7</td>\n",
       "      <td>7.600</td>\n",
       "    </tr>\n",
       "  </tbody>\n",
       "</table>\n",
       "</div>"
      ],
      "text/plain": [
       "                                        title   type  release_year  \\\n",
       "id                                                                   \n",
       "ts300399  Five Came Back: The Reference Films   SHOW          1945   \n",
       "tm84618                           Taxi Driver  MOVIE          1976   \n",
       "tm154986                          Deliverance  MOVIE          1972   \n",
       "tm127384      Monty Python and the Holy Grail  MOVIE          1975   \n",
       "tm120801                      The Dirty Dozen  MOVIE          1967   \n",
       "\n",
       "         age_certification  runtime  \\\n",
       "id                                    \n",
       "ts300399             TV-MA       51   \n",
       "tm84618                  R      114   \n",
       "tm154986                 R      109   \n",
       "tm127384                PG       91   \n",
       "tm120801               NaN      150   \n",
       "\n",
       "                                               genres  imdb_score  tmdb_score  \n",
       "id                                                                             \n",
       "ts300399                            ['documentation']         NaN         NaN  \n",
       "tm84618                            ['drama', 'crime']         8.2       8.179  \n",
       "tm154986  ['drama', 'action', 'thriller', 'european']         7.7       7.300  \n",
       "tm127384              ['fantasy', 'action', 'comedy']         8.2       7.811  \n",
       "tm120801                            ['war', 'action']         7.7       7.600  "
      ]
     },
     "execution_count": 59,
     "metadata": {},
     "output_type": "execute_result"
    }
   ],
   "source": [
    "netflix_data.drop(['description','seasons','imdb_id','production_countries','imdb_votes','tmdb_popularity'], axis = 1, inplace = True)\n",
    "netflix_data.head()"
   ]
  },
  {
   "cell_type": "markdown",
   "id": "3f2c2ae3",
   "metadata": {},
   "source": [
    "We want to rename the 'type' column. Since type is a function in Python, we don't want to confuse the readers and generate any unnecessary output."
   ]
  },
  {
   "cell_type": "code",
   "execution_count": 60,
   "id": "6ed3a68d",
   "metadata": {
    "scrolled": true
   },
   "outputs": [
    {
     "data": {
      "text/html": [
       "<div>\n",
       "<style scoped>\n",
       "    .dataframe tbody tr th:only-of-type {\n",
       "        vertical-align: middle;\n",
       "    }\n",
       "\n",
       "    .dataframe tbody tr th {\n",
       "        vertical-align: top;\n",
       "    }\n",
       "\n",
       "    .dataframe thead th {\n",
       "        text-align: right;\n",
       "    }\n",
       "</style>\n",
       "<table border=\"1\" class=\"dataframe\">\n",
       "  <thead>\n",
       "    <tr style=\"text-align: right;\">\n",
       "      <th></th>\n",
       "      <th>title</th>\n",
       "      <th>category</th>\n",
       "      <th>release_year</th>\n",
       "      <th>age_certification</th>\n",
       "      <th>runtime</th>\n",
       "      <th>genres</th>\n",
       "      <th>imdb_score</th>\n",
       "      <th>tmdb_score</th>\n",
       "    </tr>\n",
       "    <tr>\n",
       "      <th>id</th>\n",
       "      <th></th>\n",
       "      <th></th>\n",
       "      <th></th>\n",
       "      <th></th>\n",
       "      <th></th>\n",
       "      <th></th>\n",
       "      <th></th>\n",
       "      <th></th>\n",
       "    </tr>\n",
       "  </thead>\n",
       "  <tbody>\n",
       "    <tr>\n",
       "      <th>ts300399</th>\n",
       "      <td>Five Came Back: The Reference Films</td>\n",
       "      <td>SHOW</td>\n",
       "      <td>1945</td>\n",
       "      <td>TV-MA</td>\n",
       "      <td>51</td>\n",
       "      <td>['documentation']</td>\n",
       "      <td>NaN</td>\n",
       "      <td>NaN</td>\n",
       "    </tr>\n",
       "    <tr>\n",
       "      <th>tm84618</th>\n",
       "      <td>Taxi Driver</td>\n",
       "      <td>MOVIE</td>\n",
       "      <td>1976</td>\n",
       "      <td>R</td>\n",
       "      <td>114</td>\n",
       "      <td>['drama', 'crime']</td>\n",
       "      <td>8.2</td>\n",
       "      <td>8.179</td>\n",
       "    </tr>\n",
       "    <tr>\n",
       "      <th>tm154986</th>\n",
       "      <td>Deliverance</td>\n",
       "      <td>MOVIE</td>\n",
       "      <td>1972</td>\n",
       "      <td>R</td>\n",
       "      <td>109</td>\n",
       "      <td>['drama', 'action', 'thriller', 'european']</td>\n",
       "      <td>7.7</td>\n",
       "      <td>7.300</td>\n",
       "    </tr>\n",
       "    <tr>\n",
       "      <th>tm127384</th>\n",
       "      <td>Monty Python and the Holy Grail</td>\n",
       "      <td>MOVIE</td>\n",
       "      <td>1975</td>\n",
       "      <td>PG</td>\n",
       "      <td>91</td>\n",
       "      <td>['fantasy', 'action', 'comedy']</td>\n",
       "      <td>8.2</td>\n",
       "      <td>7.811</td>\n",
       "    </tr>\n",
       "    <tr>\n",
       "      <th>tm120801</th>\n",
       "      <td>The Dirty Dozen</td>\n",
       "      <td>MOVIE</td>\n",
       "      <td>1967</td>\n",
       "      <td>NaN</td>\n",
       "      <td>150</td>\n",
       "      <td>['war', 'action']</td>\n",
       "      <td>7.7</td>\n",
       "      <td>7.600</td>\n",
       "    </tr>\n",
       "  </tbody>\n",
       "</table>\n",
       "</div>"
      ],
      "text/plain": [
       "                                        title category  release_year  \\\n",
       "id                                                                     \n",
       "ts300399  Five Came Back: The Reference Films     SHOW          1945   \n",
       "tm84618                           Taxi Driver    MOVIE          1976   \n",
       "tm154986                          Deliverance    MOVIE          1972   \n",
       "tm127384      Monty Python and the Holy Grail    MOVIE          1975   \n",
       "tm120801                      The Dirty Dozen    MOVIE          1967   \n",
       "\n",
       "         age_certification  runtime  \\\n",
       "id                                    \n",
       "ts300399             TV-MA       51   \n",
       "tm84618                  R      114   \n",
       "tm154986                 R      109   \n",
       "tm127384                PG       91   \n",
       "tm120801               NaN      150   \n",
       "\n",
       "                                               genres  imdb_score  tmdb_score  \n",
       "id                                                                             \n",
       "ts300399                            ['documentation']         NaN         NaN  \n",
       "tm84618                            ['drama', 'crime']         8.2       8.179  \n",
       "tm154986  ['drama', 'action', 'thriller', 'european']         7.7       7.300  \n",
       "tm127384              ['fantasy', 'action', 'comedy']         8.2       7.811  \n",
       "tm120801                            ['war', 'action']         7.7       7.600  "
      ]
     },
     "execution_count": 60,
     "metadata": {},
     "output_type": "execute_result"
    }
   ],
   "source": [
    "#rename the 'type' column to 'category'\n",
    "netflix_data.rename(columns = {'type':'category'}, inplace = True)\n",
    "netflix_data.head()"
   ]
  },
  {
   "cell_type": "code",
   "execution_count": 61,
   "id": "68c70de6",
   "metadata": {},
   "outputs": [
    {
     "data": {
      "text/plain": [
       "(5850, 8)"
      ]
     },
     "execution_count": 61,
     "metadata": {},
     "output_type": "execute_result"
    }
   ],
   "source": [
    "netflix_data.shape"
   ]
  },
  {
   "cell_type": "markdown",
   "id": "94996a57",
   "metadata": {},
   "source": [
    "### Duplicate and Missing Values"
   ]
  },
  {
   "cell_type": "code",
   "execution_count": 62,
   "id": "61167b8b",
   "metadata": {},
   "outputs": [
    {
     "data": {
      "text/plain": [
       "0"
      ]
     },
     "execution_count": 62,
     "metadata": {},
     "output_type": "execute_result"
    }
   ],
   "source": [
    "#check duplicated values\n",
    "netflix_data.duplicated().sum()"
   ]
  },
  {
   "cell_type": "code",
   "execution_count": 63,
   "id": "3c2701bf",
   "metadata": {},
   "outputs": [
    {
     "data": {
      "text/plain": [
       "title                   1\n",
       "category                0\n",
       "release_year            0\n",
       "age_certification    2619\n",
       "runtime                 0\n",
       "genres                  0\n",
       "imdb_score            482\n",
       "tmdb_score            311\n",
       "dtype: int64"
      ]
     },
     "execution_count": 63,
     "metadata": {},
     "output_type": "execute_result"
    }
   ],
   "source": [
    "#check null values\n",
    "netflix_data.isnull().sum()"
   ]
  },
  {
   "cell_type": "code",
   "execution_count": 64,
   "id": "021c0248",
   "metadata": {},
   "outputs": [
    {
     "data": {
      "text/plain": [
       "title                0\n",
       "category             0\n",
       "release_year         0\n",
       "age_certification    0\n",
       "runtime              0\n",
       "genres               0\n",
       "imdb_score           0\n",
       "tmdb_score           0\n",
       "dtype: int64"
      ]
     },
     "execution_count": 64,
     "metadata": {},
     "output_type": "execute_result"
    }
   ],
   "source": [
    "#drop rows with null values\n",
    "netflix_data.dropna(axis = 0, inplace = True)\n",
    "netflix_data.isnull().sum()"
   ]
  },
  {
   "cell_type": "markdown",
   "id": "46e0bfa1",
   "metadata": {},
   "source": [
    "We can see that there is a difference between the IMDB score and the TMDB score. We want to round the \"tmdb_score\" table values into one decimal, so they will be the same as the \"imdb_score\" table values."
   ]
  },
  {
   "cell_type": "code",
   "execution_count": 65,
   "id": "f0f5f20c",
   "metadata": {},
   "outputs": [
    {
     "data": {
      "text/html": [
       "<div>\n",
       "<style scoped>\n",
       "    .dataframe tbody tr th:only-of-type {\n",
       "        vertical-align: middle;\n",
       "    }\n",
       "\n",
       "    .dataframe tbody tr th {\n",
       "        vertical-align: top;\n",
       "    }\n",
       "\n",
       "    .dataframe thead th {\n",
       "        text-align: right;\n",
       "    }\n",
       "</style>\n",
       "<table border=\"1\" class=\"dataframe\">\n",
       "  <thead>\n",
       "    <tr style=\"text-align: right;\">\n",
       "      <th></th>\n",
       "      <th>title</th>\n",
       "      <th>category</th>\n",
       "      <th>release_year</th>\n",
       "      <th>age_certification</th>\n",
       "      <th>runtime</th>\n",
       "      <th>genres</th>\n",
       "      <th>imdb_score</th>\n",
       "      <th>tmdb_score</th>\n",
       "    </tr>\n",
       "    <tr>\n",
       "      <th>id</th>\n",
       "      <th></th>\n",
       "      <th></th>\n",
       "      <th></th>\n",
       "      <th></th>\n",
       "      <th></th>\n",
       "      <th></th>\n",
       "      <th></th>\n",
       "      <th></th>\n",
       "    </tr>\n",
       "  </thead>\n",
       "  <tbody>\n",
       "    <tr>\n",
       "      <th>tm84618</th>\n",
       "      <td>Taxi Driver</td>\n",
       "      <td>MOVIE</td>\n",
       "      <td>1976</td>\n",
       "      <td>R</td>\n",
       "      <td>114</td>\n",
       "      <td>['drama', 'crime']</td>\n",
       "      <td>8.2</td>\n",
       "      <td>8.2</td>\n",
       "    </tr>\n",
       "    <tr>\n",
       "      <th>tm154986</th>\n",
       "      <td>Deliverance</td>\n",
       "      <td>MOVIE</td>\n",
       "      <td>1972</td>\n",
       "      <td>R</td>\n",
       "      <td>109</td>\n",
       "      <td>['drama', 'action', 'thriller', 'european']</td>\n",
       "      <td>7.7</td>\n",
       "      <td>7.3</td>\n",
       "    </tr>\n",
       "    <tr>\n",
       "      <th>tm127384</th>\n",
       "      <td>Monty Python and the Holy Grail</td>\n",
       "      <td>MOVIE</td>\n",
       "      <td>1975</td>\n",
       "      <td>PG</td>\n",
       "      <td>91</td>\n",
       "      <td>['fantasy', 'action', 'comedy']</td>\n",
       "      <td>8.2</td>\n",
       "      <td>7.8</td>\n",
       "    </tr>\n",
       "    <tr>\n",
       "      <th>ts22164</th>\n",
       "      <td>Monty Python's Flying Circus</td>\n",
       "      <td>SHOW</td>\n",
       "      <td>1969</td>\n",
       "      <td>TV-14</td>\n",
       "      <td>30</td>\n",
       "      <td>['comedy', 'european']</td>\n",
       "      <td>8.8</td>\n",
       "      <td>8.3</td>\n",
       "    </tr>\n",
       "    <tr>\n",
       "      <th>tm70993</th>\n",
       "      <td>Life of Brian</td>\n",
       "      <td>MOVIE</td>\n",
       "      <td>1979</td>\n",
       "      <td>R</td>\n",
       "      <td>94</td>\n",
       "      <td>['comedy']</td>\n",
       "      <td>8.0</td>\n",
       "      <td>7.8</td>\n",
       "    </tr>\n",
       "  </tbody>\n",
       "</table>\n",
       "</div>"
      ],
      "text/plain": [
       "                                    title category  release_year  \\\n",
       "id                                                                 \n",
       "tm84618                       Taxi Driver    MOVIE          1976   \n",
       "tm154986                      Deliverance    MOVIE          1972   \n",
       "tm127384  Monty Python and the Holy Grail    MOVIE          1975   \n",
       "ts22164      Monty Python's Flying Circus     SHOW          1969   \n",
       "tm70993                     Life of Brian    MOVIE          1979   \n",
       "\n",
       "         age_certification  runtime  \\\n",
       "id                                    \n",
       "tm84618                  R      114   \n",
       "tm154986                 R      109   \n",
       "tm127384                PG       91   \n",
       "ts22164              TV-14       30   \n",
       "tm70993                  R       94   \n",
       "\n",
       "                                               genres  imdb_score  tmdb_score  \n",
       "id                                                                             \n",
       "tm84618                            ['drama', 'crime']         8.2         8.2  \n",
       "tm154986  ['drama', 'action', 'thriller', 'european']         7.7         7.3  \n",
       "tm127384              ['fantasy', 'action', 'comedy']         8.2         7.8  \n",
       "ts22164                        ['comedy', 'european']         8.8         8.3  \n",
       "tm70993                                    ['comedy']         8.0         7.8  "
      ]
     },
     "execution_count": 65,
     "metadata": {},
     "output_type": "execute_result"
    }
   ],
   "source": [
    "#round the 'tmdb_score' column values into one decimal\n",
    "netflix_data.round({'tmdb_score':1}).head()"
   ]
  },
  {
   "cell_type": "code",
   "execution_count": 66,
   "id": "df69e2b5",
   "metadata": {},
   "outputs": [
    {
     "data": {
      "text/plain": [
       "(2951, 8)"
      ]
     },
     "execution_count": 66,
     "metadata": {},
     "output_type": "execute_result"
    }
   ],
   "source": [
    "netflix_data.shape"
   ]
  },
  {
   "cell_type": "markdown",
   "id": "bef67c6d",
   "metadata": {},
   "source": [
    "## 2. Exploratory Analysis and Data Visualization\n",
    "Now, we want to analyze and visualize the Netflix dataset in charts. Let's start with the amount of each movie and TV show on Netflix."
   ]
  },
  {
   "cell_type": "code",
   "execution_count": 67,
   "id": "66be4a6a",
   "metadata": {
    "scrolled": true
   },
   "outputs": [
    {
     "data": {
      "text/plain": [
       "SHOW     1668\n",
       "MOVIE    1283\n",
       "Name: category, dtype: int64"
      ]
     },
     "execution_count": 67,
     "metadata": {},
     "output_type": "execute_result"
    }
   ],
   "source": [
    "#count the amount of each movie and TV show\n",
    "category_count = netflix_data['category'].value_counts()\n",
    "category_count.head()"
   ]
  },
  {
   "cell_type": "code",
   "execution_count": 68,
   "id": "c273660f",
   "metadata": {},
   "outputs": [
    {
     "data": {
      "image/png": "[encoded data removed]",
      "text/plain": [
       "<Figure size 432x288 with 1 Axes>"
      ]
     },
     "metadata": {
      "needs_background": "light"
     },
     "output_type": "display_data"
    }
   ],
   "source": [
    "plt.bar(['Movie', 'TV Shows'],[1668, 1283])\n",
    "plt.title(\"Comparison of Netflix's Movies and TV Shows\")\n",
    "plt.show()"
   ]
  },
  {
   "cell_type": "markdown",
   "id": "042ce37b",
   "metadata": {},
   "source": [
    "From the bar chart above, we can see that Netflix produces more movies than TV shows."
   ]
  },
  {
   "cell_type": "markdown",
   "id": "30112854",
   "metadata": {},
   "source": [
    "Since its first TV show, Netflix became popular in 2012 until now. Therefore, we want to analyze the total of movies and TV shows released each year and visualize it into line chart."
   ]
  },
  {
   "cell_type": "code",
   "execution_count": 69,
   "id": "88392aa6",
   "metadata": {
    "scrolled": false
   },
   "outputs": [
    {
     "data": {
      "text/plain": [
       "2018    400\n",
       "2021    388\n",
       "2020    352\n",
       "2019    345\n",
       "2017    246\n",
       "2022    207\n",
       "2016    191\n",
       "2015    137\n",
       "2014     86\n",
       "2013     79\n",
       "2012     71\n",
       "Name: release_year, dtype: int64"
      ]
     },
     "execution_count": 69,
     "metadata": {},
     "output_type": "execute_result"
    }
   ],
   "source": [
    "#count the amount of movies and tv shows released each year\n",
    "movie_tvshow_count = netflix_data['release_year'].value_counts()\n",
    "movie_tvshow_count.head(11)"
   ]
  },
  {
   "cell_type": "code",
   "execution_count": 70,
   "id": "17cdf48a",
   "metadata": {},
   "outputs": [
    {
     "data": {
      "image/png": "[encoded data removed]",
      "text/plain": [
       "<Figure size 720x360 with 1 Axes>"
      ]
     },
     "metadata": {
      "needs_background": "light"
     },
     "output_type": "display_data"
    }
   ],
   "source": [
    "plt.figure(figsize = (10,5))\n",
    "sns.lineplot(data = movie_tvshow_count)\n",
    "plt.xlim(2012,2022)\n",
    "plt.ylim(0,500)\n",
    "plt.xlabel('Released Year')\n",
    "plt.ylabel('Released Amount')\n",
    "plt.title(\"Total of Netflix's Movies and TV Shows of 2012 - 2022\")\n",
    "plt.show()"
   ]
  },
  {
   "cell_type": "markdown",
   "id": "ff63686d",
   "metadata": {},
   "source": [
    "From the line chart above, we can see that the amount of movies and TV shows has increased each year. However, since 2020, the amount of them is decreased due to the COVID-19 pandemic. It caused the movie and TV show production cancelled."
   ]
  },
  {
   "cell_type": "markdown",
   "id": "0bb1fccc",
   "metadata": {},
   "source": [
    "Next, we will parse the genres of each movie and TV show and see which is the most popular genre on Netflix."
   ]
  },
  {
   "cell_type": "code",
   "execution_count": 71,
   "id": "d0e9a0f9",
   "metadata": {},
   "outputs": [
    {
     "data": {
      "text/plain": [
       "['comedy']                        146\n",
       "['documentation']                 102\n",
       "['drama']                          90\n",
       "['reality']                        82\n",
       "['comedy', 'drama']                65\n",
       "['drama', 'romance']               60\n",
       "['drama', 'comedy']                53\n",
       "['documentation', 'crime']         42\n",
       "['comedy', 'drama', 'romance']     35\n",
       "['comedy', 'documentation']        28\n",
       "Name: genres, dtype: int64"
      ]
     },
     "execution_count": 71,
     "metadata": {},
     "output_type": "execute_result"
    }
   ],
   "source": [
    "genre_count = netflix_data['genres'].value_counts()\n",
    "genre_count.head(10)"
   ]
  },
  {
   "cell_type": "markdown",
   "id": "28d58fa5",
   "metadata": {},
   "source": [
    "Because there are movies and TV shows that have multiple genres, we want to parse them into one genre each."
   ]
  },
  {
   "cell_type": "code",
   "execution_count": 72,
   "id": "5f921acf",
   "metadata": {},
   "outputs": [
    {
     "data": {
      "text/plain": [
       "{'drama': 1626,\n",
       " 'crime': 598,\n",
       " 'action': 748,\n",
       " 'thriller': 753,\n",
       " 'european': 197,\n",
       " 'fantasy': 474,\n",
       " 'comedy': 1161,\n",
       " 'romance': 491,\n",
       " 'western': 29,\n",
       " 'documentation': 414,\n",
       " 'history': 165,\n",
       " 'war': 102,\n",
       " 'music': 118,\n",
       " 'horror': 229,\n",
       " 'scifi': 453,\n",
       " 'animation': 480,\n",
       " 'family': 451,\n",
       " 'reality': 174,\n",
       " 'sport': 114,\n",
       " '': 1}"
      ]
     },
     "execution_count": 72,
     "metadata": {},
     "output_type": "execute_result"
    }
   ],
   "source": [
    "genres = {}\n",
    "\n",
    "def get_genres(row):\n",
    "  parsed = (str(row)[1:-1]).split(\",\")\n",
    "\n",
    "  for i in range(len(parsed)):\n",
    "    parsed[i] = parsed[i].strip()\n",
    "    parsed[i] = parsed[i][1:-1]\n",
    "\n",
    "  for i in parsed:\n",
    "    if i not in genres.keys():\n",
    "      genres[i] = 0\n",
    "      continue\n",
    "    genres[i] += 1\n",
    "\n",
    "  return row\n",
    "netflix_data['genres'] = netflix_data['genres'].map(get_genres)\n",
    "genres"
   ]
  },
  {
   "cell_type": "code",
   "execution_count": 73,
   "id": "252b486d",
   "metadata": {},
   "outputs": [
    {
     "name": "stdout",
     "output_type": "stream",
     "text": [
      "('drama', 1626)\n",
      "('crime', 598)\n",
      "('action', 748)\n",
      "('thriller', 753)\n",
      "('european', 197)\n",
      "('fantasy', 474)\n",
      "('comedy', 1161)\n",
      "('romance', 491)\n",
      "('western', 29)\n",
      "('documentation', 414)\n",
      "('history', 165)\n",
      "('war', 102)\n",
      "('music', 118)\n",
      "('horror', 229)\n",
      "('scifi', 453)\n",
      "('animation', 480)\n",
      "('family', 451)\n",
      "('reality', 174)\n",
      "('sport', 114)\n",
      "('', 1)\n"
     ]
    }
   ],
   "source": [
    "for genre in genres.items():\n",
    "    print(genre or 'none')"
   ]
  },
  {
   "cell_type": "code",
   "execution_count": 74,
   "id": "d6824a26",
   "metadata": {},
   "outputs": [
    {
     "data": {
      "image/png": "[encoded data removed]",
      "text/plain": [
       "<Figure size 1440x720 with 1 Axes>"
      ]
     },
     "metadata": {
      "needs_background": "light"
     },
     "output_type": "display_data"
    }
   ],
   "source": [
    "x = list(genres.keys())\n",
    "y = list(genres.values())\n",
    "\n",
    "bar_color = sns.color_palette('bright')\n",
    "plt.figure(figsize = (20,10))\n",
    "plt.bar(x,y,color = bar_color)\n",
    "plt.title('Movies and TV Shows Genres on Netflix')\n",
    "plt.show()"
   ]
  },
  {
   "cell_type": "markdown",
   "id": "18554735",
   "metadata": {},
   "source": [
    "From the graph above, we can conclude that drama genre is the most popular genre on Netflix."
   ]
  },
  {
   "cell_type": "markdown",
   "id": "01b18715",
   "metadata": {},
   "source": [
    "There are several age ratings on Netflix. We want to parse them and see which age ratings with the most movies and TV shows."
   ]
  },
  {
   "cell_type": "code",
   "execution_count": 75,
   "id": "908f6658",
   "metadata": {},
   "outputs": [
    {
     "data": {
      "text/plain": [
       "TV-MA    822\n",
       "R        528\n",
       "PG-13    431\n",
       "TV-14    417\n",
       "PG       221\n",
       "TV-PG    161\n",
       "TV-Y7    106\n",
       "TV-Y      88\n",
       "G         88\n",
       "TV-G      74\n",
       "NC-17     15\n",
       "Name: age_certification, dtype: int64"
      ]
     },
     "execution_count": 75,
     "metadata": {},
     "output_type": "execute_result"
    }
   ],
   "source": [
    "#count the amount of age ratings\n",
    "age_rating = netflix_data['age_certification'].value_counts()\n",
    "age_rating"
   ]
  },
  {
   "cell_type": "code",
   "execution_count": 76,
   "id": "247d079e",
   "metadata": {},
   "outputs": [
    {
     "name": "stderr",
     "output_type": "stream",
     "text": [
      "d:\\DATAA\\Anaconda\\lib\\site-packages\\seaborn\\_decorators.py:36: FutureWarning: Pass the following variable as a keyword arg: x. From version 0.12, the only valid positional argument will be `data`, and passing other arguments without an explicit keyword will result in an error or misinterpretation.\n",
      "  warnings.warn(\n"
     ]
    },
    {
     "data": {
      "image/png": "[encoded data removed]",
      "text/plain": [
       "<Figure size 1080x720 with 1 Axes>"
      ]
     },
     "metadata": {
      "needs_background": "light"
     },
     "output_type": "display_data"
    }
   ],
   "source": [
    "plt.figure(figsize = (15,10))\n",
    "sns.countplot(netflix_data['age_certification'])\n",
    "plt.title(\"Netflix's Age Ratings\")\n",
    "plt.show()"
   ]
  },
  {
   "cell_type": "markdown",
   "id": "0371f311",
   "metadata": {},
   "source": [
    "The TV-MA is the highest rating for TV shows. It stands for TV Mature Audiences. Same with the R rating, which is the highest rating for movies. As we know that most of Netflix's audiences are above 18 years old."
   ]
  },
  {
   "cell_type": "markdown",
   "id": "f4e67d4c",
   "metadata": {},
   "source": [
    "Next, we want to compare the rating of IMDb and TMDB. IMDb (Internet Movie Database) is an online database of information related to films, television series, home videos, video games, and streaming content online. While TMDB (The Movie Database) is a popular database for movies and TV shows. We will compare their top 10 ratings."
   ]
  },
  {
   "cell_type": "code",
   "execution_count": 77,
   "id": "d517e84f",
   "metadata": {},
   "outputs": [
    {
     "data": {
      "text/html": [
       "<div>\n",
       "<style scoped>\n",
       "    .dataframe tbody tr th:only-of-type {\n",
       "        vertical-align: middle;\n",
       "    }\n",
       "\n",
       "    .dataframe tbody tr th {\n",
       "        vertical-align: top;\n",
       "    }\n",
       "\n",
       "    .dataframe thead th {\n",
       "        text-align: right;\n",
       "    }\n",
       "</style>\n",
       "<table border=\"1\" class=\"dataframe\">\n",
       "  <thead>\n",
       "    <tr style=\"text-align: right;\">\n",
       "      <th></th>\n",
       "      <th>title</th>\n",
       "      <th>category</th>\n",
       "      <th>imdb_score</th>\n",
       "    </tr>\n",
       "    <tr>\n",
       "      <th>id</th>\n",
       "      <th></th>\n",
       "      <th></th>\n",
       "      <th></th>\n",
       "    </tr>\n",
       "  </thead>\n",
       "  <tbody>\n",
       "    <tr>\n",
       "      <th>ts4</th>\n",
       "      <td>Breaking Bad</td>\n",
       "      <td>SHOW</td>\n",
       "      <td>9.5</td>\n",
       "    </tr>\n",
       "    <tr>\n",
       "      <th>ts3371</th>\n",
       "      <td>Avatar: The Last Airbender</td>\n",
       "      <td>SHOW</td>\n",
       "      <td>9.3</td>\n",
       "    </tr>\n",
       "    <tr>\n",
       "      <th>ts85398</th>\n",
       "      <td>Our Planet</td>\n",
       "      <td>SHOW</td>\n",
       "      <td>9.3</td>\n",
       "    </tr>\n",
       "    <tr>\n",
       "      <th>ts37660</th>\n",
       "      <td>Reply 1988</td>\n",
       "      <td>SHOW</td>\n",
       "      <td>9.2</td>\n",
       "    </tr>\n",
       "    <tr>\n",
       "      <th>ts78298</th>\n",
       "      <td>My Mister</td>\n",
       "      <td>SHOW</td>\n",
       "      <td>9.1</td>\n",
       "    </tr>\n",
       "    <tr>\n",
       "      <th>ts90621</th>\n",
       "      <td>Kota Factory</td>\n",
       "      <td>SHOW</td>\n",
       "      <td>9.1</td>\n",
       "    </tr>\n",
       "    <tr>\n",
       "      <th>ts81120</th>\n",
       "      <td>The Last Dance</td>\n",
       "      <td>SHOW</td>\n",
       "      <td>9.1</td>\n",
       "    </tr>\n",
       "    <tr>\n",
       "      <th>ts52922</th>\n",
       "      <td>Leah Remini: Scientology and the Aftermath</td>\n",
       "      <td>SHOW</td>\n",
       "      <td>9.0</td>\n",
       "    </tr>\n",
       "    <tr>\n",
       "      <th>ts222333</th>\n",
       "      <td>Arcane</td>\n",
       "      <td>SHOW</td>\n",
       "      <td>9.0</td>\n",
       "    </tr>\n",
       "    <tr>\n",
       "      <th>ts20682</th>\n",
       "      <td>Attack on Titan</td>\n",
       "      <td>SHOW</td>\n",
       "      <td>9.0</td>\n",
       "    </tr>\n",
       "  </tbody>\n",
       "</table>\n",
       "</div>"
      ],
      "text/plain": [
       "                                               title category  imdb_score\n",
       "id                                                                       \n",
       "ts4                                     Breaking Bad     SHOW         9.5\n",
       "ts3371                    Avatar: The Last Airbender     SHOW         9.3\n",
       "ts85398                                   Our Planet     SHOW         9.3\n",
       "ts37660                                   Reply 1988     SHOW         9.2\n",
       "ts78298                                    My Mister     SHOW         9.1\n",
       "ts90621                                 Kota Factory     SHOW         9.1\n",
       "ts81120                               The Last Dance     SHOW         9.1\n",
       "ts52922   Leah Remini: Scientology and the Aftermath     SHOW         9.0\n",
       "ts222333                                      Arcane     SHOW         9.0\n",
       "ts20682                              Attack on Titan     SHOW         9.0"
      ]
     },
     "execution_count": 77,
     "metadata": {},
     "output_type": "execute_result"
    }
   ],
   "source": [
    "top_10_imdb_ratings = netflix_data.sort_values(['imdb_score'], ascending = False)[['title','category','imdb_score']]\n",
    "top_10_imdb_ratings.head(10)"
   ]
  },
  {
   "cell_type": "code",
   "execution_count": 78,
   "id": "e8fbbb84",
   "metadata": {
    "scrolled": true
   },
   "outputs": [
    {
     "data": {
      "text/html": [
       "<div>\n",
       "<style scoped>\n",
       "    .dataframe tbody tr th:only-of-type {\n",
       "        vertical-align: middle;\n",
       "    }\n",
       "\n",
       "    .dataframe tbody tr th {\n",
       "        vertical-align: top;\n",
       "    }\n",
       "\n",
       "    .dataframe thead th {\n",
       "        text-align: right;\n",
       "    }\n",
       "</style>\n",
       "<table border=\"1\" class=\"dataframe\">\n",
       "  <thead>\n",
       "    <tr style=\"text-align: right;\">\n",
       "      <th></th>\n",
       "      <th>title</th>\n",
       "      <th>category</th>\n",
       "      <th>tmdb_score</th>\n",
       "    </tr>\n",
       "    <tr>\n",
       "      <th>id</th>\n",
       "      <th></th>\n",
       "      <th></th>\n",
       "      <th></th>\n",
       "    </tr>\n",
       "  </thead>\n",
       "  <tbody>\n",
       "    <tr>\n",
       "      <th>ts192440</th>\n",
       "      <td>Garth Brooks: The Road I'm On</td>\n",
       "      <td>SHOW</td>\n",
       "      <td>10.0</td>\n",
       "    </tr>\n",
       "    <tr>\n",
       "      <th>ts234501</th>\n",
       "      <td>Buddi</td>\n",
       "      <td>SHOW</td>\n",
       "      <td>10.0</td>\n",
       "    </tr>\n",
       "    <tr>\n",
       "      <th>ts252122</th>\n",
       "      <td>The Possessed</td>\n",
       "      <td>SHOW</td>\n",
       "      <td>10.0</td>\n",
       "    </tr>\n",
       "    <tr>\n",
       "      <th>ts253288</th>\n",
       "      <td>Felipe Esparza: Bad Decisions</td>\n",
       "      <td>SHOW</td>\n",
       "      <td>10.0</td>\n",
       "    </tr>\n",
       "    <tr>\n",
       "      <th>ts55365</th>\n",
       "      <td>The Haunted House</td>\n",
       "      <td>SHOW</td>\n",
       "      <td>10.0</td>\n",
       "    </tr>\n",
       "    <tr>\n",
       "      <th>ts225708</th>\n",
       "      <td>Six Windows in the Desert</td>\n",
       "      <td>SHOW</td>\n",
       "      <td>10.0</td>\n",
       "    </tr>\n",
       "    <tr>\n",
       "      <th>tm1201457</th>\n",
       "      <td>Civil: Ben Crump</td>\n",
       "      <td>MOVIE</td>\n",
       "      <td>10.0</td>\n",
       "    </tr>\n",
       "    <tr>\n",
       "      <th>ts224261</th>\n",
       "      <td>Nailed It! Germany</td>\n",
       "      <td>SHOW</td>\n",
       "      <td>10.0</td>\n",
       "    </tr>\n",
       "    <tr>\n",
       "      <th>ts251607</th>\n",
       "      <td>Word Party Songs</td>\n",
       "      <td>SHOW</td>\n",
       "      <td>10.0</td>\n",
       "    </tr>\n",
       "    <tr>\n",
       "      <th>ts191698</th>\n",
       "      <td>Little Baby Bum</td>\n",
       "      <td>SHOW</td>\n",
       "      <td>10.0</td>\n",
       "    </tr>\n",
       "  </tbody>\n",
       "</table>\n",
       "</div>"
      ],
      "text/plain": [
       "                                   title category  tmdb_score\n",
       "id                                                           \n",
       "ts192440   Garth Brooks: The Road I'm On     SHOW        10.0\n",
       "ts234501                           Buddi     SHOW        10.0\n",
       "ts252122                   The Possessed     SHOW        10.0\n",
       "ts253288   Felipe Esparza: Bad Decisions     SHOW        10.0\n",
       "ts55365                The Haunted House     SHOW        10.0\n",
       "ts225708       Six Windows in the Desert     SHOW        10.0\n",
       "tm1201457               Civil: Ben Crump    MOVIE        10.0\n",
       "ts224261              Nailed It! Germany     SHOW        10.0\n",
       "ts251607                Word Party Songs     SHOW        10.0\n",
       "ts191698                 Little Baby Bum     SHOW        10.0"
      ]
     },
     "execution_count": 78,
     "metadata": {},
     "output_type": "execute_result"
    }
   ],
   "source": [
    "top_10_tmdb_ratings = netflix_data.sort_values(['tmdb_score'], ascending = False)[['title','category','tmdb_score']]\n",
    "top_10_tmdb_ratings.head(10)"
   ]
  }
 ],
 "metadata": {
  "kernelspec": {
   "display_name": "Python 3.9.12 ('base')",
   "language": "python",
   "name": "python3"
  },
  "language_info": {
   "codemirror_mode": {
    "name": "ipython",
    "version": 3
   },
   "file_extension": ".py",
   "mimetype": "text/x-python",
   "name": "python",
   "nbconvert_exporter": "python",
   "pygments_lexer": "ipython3",
   "version": "3.9.12"
  },
  "vscode": {
   "interpreter": {
    "hash": "64b5c8939460469f2cb012c0a1676a4bbdc1a261af2015b875e36a9d9f6be88c"
   }
  }
 },
 "nbformat": 4,
 "nbformat_minor": 5
}
